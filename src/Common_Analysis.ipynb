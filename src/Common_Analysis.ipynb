{
 "cells": [
  {
   "cell_type": "markdown",
   "id": "43ea66b3",
   "metadata": {},
   "source": [
    "## Covid -19 Data Analysis with Mask Mandates and Compliance into Consideration\n",
    "\n",
    "The purpose of this notebook is to analyze the effect of masking policies and the compliance of these policies amomg the population at Franklin in Ohio in United States during COVID-19 for the time spaen between February 1, 2020 through October 1, 2021. The data sets used for this analysis are curated from the below mentioned links.\n",
    "1. [John Hopkins University COVID-19 data](https://www.kaggle.com/datasets/antgoldbloom/covid19-data-from-john-hopkins-university)\n",
    "2. [masking mandates by county](https://data.cdc.gov/Policy-Surveillance/U-S-State-and-Territorial-Public-Mask-Mandates-Fro/62d6-pm5i)\n",
    "3. [mask compliance survey](https://github.com/nytimes/covid-19-data/tree/master/mask-use)\n",
    "\n"
   ]
  },
  {
   "cell_type": "markdown",
   "id": "68bf74b8",
   "metadata": {},
   "source": [
    "# Table of Contents\n",
    "\n",
    "1. Step 1 : Data Acquisition - collecting data from the above mentioned links\n",
    "2. Step 2 : Data Processing - involves steps that do data cleansing and manipulation\n",
    "3. Step 3 : Analysis - to answer the specific questions"
   ]
  },
  {
   "cell_type": "markdown",
   "id": "3297b130",
   "metadata": {},
   "source": [
    "### Step 1 :Data Acquisition - collecting data from the above mentioned links"
   ]
  },
  {
   "cell_type": "markdown",
   "id": "5f3280c7",
   "metadata": {},
   "source": [
    "#### Importing the Python packages"
   ]
  },
  {
   "cell_type": "code",
   "execution_count": 1,
   "id": "ab4ab854",
   "metadata": {},
   "outputs": [],
   "source": [
    "import pandas as pd\n",
    "import numpy as np\n",
    "import matplotlib.pyplot as plt\n",
    "import scipy.stats\n",
    "import pylab\n",
    "from datetime import datetime, timedelta\n",
    "import statsmodels.api as sm\n",
    "import statsmodels.formula.api as smf\n",
    "import math\n",
    "import os\n",
    "import warnings\n",
    "warnings.simplefilter(\"ignore\", UserWarning)\n",
    "\n"
   ]
  },
  {
   "cell_type": "markdown",
   "id": "9acb2607",
   "metadata": {},
   "source": [
    "#### Importing RAW_us_confirmed_cases.csv\n",
    "- This data ([John Hopkins University COVID-19 data](https://www.kaggle.com/datasets/antgoldbloom/covid19-data-from-john-hopkins-university)) contains the number of infections in the United States for each state captured on daily basis "
   ]
  },
  {
   "cell_type": "code",
   "execution_count": 2,
   "id": "9ccb839a",
   "metadata": {},
   "outputs": [],
   "source": [
    "PATH = os.getcwd()\n",
    "DATA_PATH = r'/Users/qwert/Documents/UW_Data_Science/Human_Centered_Data_Science/Homeworks/Course_Project/raw_data/'\n"
   ]
  },
  {
   "cell_type": "code",
   "execution_count": 3,
   "id": "f4df7e84",
   "metadata": {},
   "outputs": [
    {
     "data": {
      "text/html": [
       "<div>\n",
       "<style scoped>\n",
       "    .dataframe tbody tr th:only-of-type {\n",
       "        vertical-align: middle;\n",
       "    }\n",
       "\n",
       "    .dataframe tbody tr th {\n",
       "        vertical-align: top;\n",
       "    }\n",
       "\n",
       "    .dataframe thead th {\n",
       "        text-align: right;\n",
       "    }\n",
       "</style>\n",
       "<table border=\"1\" class=\"dataframe\">\n",
       "  <thead>\n",
       "    <tr style=\"text-align: right;\">\n",
       "      <th></th>\n",
       "      <th>Province_State</th>\n",
       "      <th>Admin2</th>\n",
       "      <th>UID</th>\n",
       "      <th>iso2</th>\n",
       "      <th>iso3</th>\n",
       "      <th>code3</th>\n",
       "      <th>FIPS</th>\n",
       "      <th>Country_Region</th>\n",
       "      <th>Lat</th>\n",
       "      <th>Long_</th>\n",
       "      <th>...</th>\n",
       "      <th>10/20/22</th>\n",
       "      <th>10/21/22</th>\n",
       "      <th>10/22/22</th>\n",
       "      <th>10/23/22</th>\n",
       "      <th>10/24/22</th>\n",
       "      <th>10/25/22</th>\n",
       "      <th>10/26/22</th>\n",
       "      <th>10/27/22</th>\n",
       "      <th>10/28/22</th>\n",
       "      <th>10/29/22</th>\n",
       "    </tr>\n",
       "  </thead>\n",
       "  <tbody>\n",
       "    <tr>\n",
       "      <th>0</th>\n",
       "      <td>Alabama</td>\n",
       "      <td>Autauga</td>\n",
       "      <td>84001001</td>\n",
       "      <td>US</td>\n",
       "      <td>USA</td>\n",
       "      <td>840</td>\n",
       "      <td>1001.0</td>\n",
       "      <td>US</td>\n",
       "      <td>32.539527</td>\n",
       "      <td>-86.644082</td>\n",
       "      <td>...</td>\n",
       "      <td>18480</td>\n",
       "      <td>18480</td>\n",
       "      <td>18480</td>\n",
       "      <td>18480</td>\n",
       "      <td>18480</td>\n",
       "      <td>18480</td>\n",
       "      <td>18480</td>\n",
       "      <td>18511</td>\n",
       "      <td>18511</td>\n",
       "      <td>18511</td>\n",
       "    </tr>\n",
       "    <tr>\n",
       "      <th>1</th>\n",
       "      <td>Alabama</td>\n",
       "      <td>Baldwin</td>\n",
       "      <td>84001003</td>\n",
       "      <td>US</td>\n",
       "      <td>USA</td>\n",
       "      <td>840</td>\n",
       "      <td>1003.0</td>\n",
       "      <td>US</td>\n",
       "      <td>30.727750</td>\n",
       "      <td>-87.722071</td>\n",
       "      <td>...</td>\n",
       "      <td>65895</td>\n",
       "      <td>65895</td>\n",
       "      <td>65895</td>\n",
       "      <td>65895</td>\n",
       "      <td>65895</td>\n",
       "      <td>65895</td>\n",
       "      <td>65895</td>\n",
       "      <td>65973</td>\n",
       "      <td>65973</td>\n",
       "      <td>65973</td>\n",
       "    </tr>\n",
       "    <tr>\n",
       "      <th>2</th>\n",
       "      <td>Alabama</td>\n",
       "      <td>Barbour</td>\n",
       "      <td>84001005</td>\n",
       "      <td>US</td>\n",
       "      <td>USA</td>\n",
       "      <td>840</td>\n",
       "      <td>1005.0</td>\n",
       "      <td>US</td>\n",
       "      <td>31.868263</td>\n",
       "      <td>-85.387129</td>\n",
       "      <td>...</td>\n",
       "      <td>6926</td>\n",
       "      <td>6926</td>\n",
       "      <td>6926</td>\n",
       "      <td>6926</td>\n",
       "      <td>6926</td>\n",
       "      <td>6926</td>\n",
       "      <td>6926</td>\n",
       "      <td>6930</td>\n",
       "      <td>6930</td>\n",
       "      <td>6930</td>\n",
       "    </tr>\n",
       "  </tbody>\n",
       "</table>\n",
       "<p>3 rows × 1023 columns</p>\n",
       "</div>"
      ],
      "text/plain": [
       "  Province_State   Admin2       UID iso2 iso3  code3    FIPS Country_Region  \\\n",
       "0        Alabama  Autauga  84001001   US  USA    840  1001.0             US   \n",
       "1        Alabama  Baldwin  84001003   US  USA    840  1003.0             US   \n",
       "2        Alabama  Barbour  84001005   US  USA    840  1005.0             US   \n",
       "\n",
       "         Lat      Long_  ... 10/20/22  10/21/22  10/22/22  10/23/22  10/24/22  \\\n",
       "0  32.539527 -86.644082  ...    18480     18480     18480     18480     18480   \n",
       "1  30.727750 -87.722071  ...    65895     65895     65895     65895     65895   \n",
       "2  31.868263 -85.387129  ...     6926      6926      6926      6926      6926   \n",
       "\n",
       "   10/25/22  10/26/22  10/27/22  10/28/22  10/29/22  \n",
       "0     18480     18480     18511     18511     18511  \n",
       "1     65895     65895     65973     65973     65973  \n",
       "2      6926      6926      6930      6930      6930  \n",
       "\n",
       "[3 rows x 1023 columns]"
      ]
     },
     "execution_count": 3,
     "metadata": {},
     "output_type": "execute_result"
    }
   ],
   "source": [
    "df_raw_us_confirmed_cases = pd.read_csv(DATA_PATH + 'RAW_us_confirmed_cases.csv')\n",
    "df_raw_us_confirmed_cases.head(3)\n"
   ]
  },
  {
   "cell_type": "markdown",
   "id": "90c0b65f",
   "metadata": {},
   "source": [
    "#### Data Filtering - Franklin in Ohio state\n",
    " - Our analyis in this notebook is only for Franklin in Ohio "
   ]
  },
  {
   "cell_type": "code",
   "execution_count": 4,
   "id": "fde88add",
   "metadata": {},
   "outputs": [
    {
     "data": {
      "text/html": [
       "<div>\n",
       "<style scoped>\n",
       "    .dataframe tbody tr th:only-of-type {\n",
       "        vertical-align: middle;\n",
       "    }\n",
       "\n",
       "    .dataframe tbody tr th {\n",
       "        vertical-align: top;\n",
       "    }\n",
       "\n",
       "    .dataframe thead th {\n",
       "        text-align: right;\n",
       "    }\n",
       "</style>\n",
       "<table border=\"1\" class=\"dataframe\">\n",
       "  <thead>\n",
       "    <tr style=\"text-align: right;\">\n",
       "      <th></th>\n",
       "      <th>Province_State</th>\n",
       "      <th>Admin2</th>\n",
       "      <th>UID</th>\n",
       "      <th>iso2</th>\n",
       "      <th>iso3</th>\n",
       "      <th>code3</th>\n",
       "      <th>FIPS</th>\n",
       "      <th>Country_Region</th>\n",
       "      <th>Lat</th>\n",
       "      <th>Long_</th>\n",
       "      <th>...</th>\n",
       "      <th>10/20/22</th>\n",
       "      <th>10/21/22</th>\n",
       "      <th>10/22/22</th>\n",
       "      <th>10/23/22</th>\n",
       "      <th>10/24/22</th>\n",
       "      <th>10/25/22</th>\n",
       "      <th>10/26/22</th>\n",
       "      <th>10/27/22</th>\n",
       "      <th>10/28/22</th>\n",
       "      <th>10/29/22</th>\n",
       "    </tr>\n",
       "  </thead>\n",
       "  <tbody>\n",
       "    <tr>\n",
       "      <th>2148</th>\n",
       "      <td>Ohio</td>\n",
       "      <td>Franklin</td>\n",
       "      <td>84039049</td>\n",
       "      <td>US</td>\n",
       "      <td>USA</td>\n",
       "      <td>840</td>\n",
       "      <td>39049.0</td>\n",
       "      <td>US</td>\n",
       "      <td>39.969958</td>\n",
       "      <td>-83.011158</td>\n",
       "      <td>...</td>\n",
       "      <td>344061</td>\n",
       "      <td>344061</td>\n",
       "      <td>344061</td>\n",
       "      <td>344061</td>\n",
       "      <td>344061</td>\n",
       "      <td>344061</td>\n",
       "      <td>344061</td>\n",
       "      <td>345102</td>\n",
       "      <td>345102</td>\n",
       "      <td>345102</td>\n",
       "    </tr>\n",
       "  </tbody>\n",
       "</table>\n",
       "<p>1 rows × 1023 columns</p>\n",
       "</div>"
      ],
      "text/plain": [
       "     Province_State    Admin2       UID iso2 iso3  code3     FIPS  \\\n",
       "2148           Ohio  Franklin  84039049   US  USA    840  39049.0   \n",
       "\n",
       "     Country_Region        Lat      Long_  ... 10/20/22  10/21/22  10/22/22  \\\n",
       "2148             US  39.969958 -83.011158  ...   344061    344061    344061   \n",
       "\n",
       "      10/23/22  10/24/22  10/25/22  10/26/22  10/27/22  10/28/22  10/29/22  \n",
       "2148    344061    344061    344061    344061    345102    345102    345102  \n",
       "\n",
       "[1 rows x 1023 columns]"
      ]
     },
     "execution_count": 4,
     "metadata": {},
     "output_type": "execute_result"
    }
   ],
   "source": [
    "df_raw_us_Ohio = df_raw_us_confirmed_cases[df_raw_us_confirmed_cases['Province_State']=='Ohio']\n",
    "\n",
    "df_raw_us_Ohio_Franklin_row = df_raw_us_Ohio[df_raw_us_Ohio['Admin2']=='Franklin']\n",
    "\n",
    "df_raw_us_Ohio_Franklin_row.head(3)"
   ]
  },
  {
   "cell_type": "markdown",
   "id": "0978a77c",
   "metadata": {},
   "source": [
    "#### Dropping the non-necessary columns \n"
   ]
  },
  {
   "cell_type": "code",
   "execution_count": 5,
   "id": "7b8d1379",
   "metadata": {},
   "outputs": [
    {
     "data": {
      "text/html": [
       "<div>\n",
       "<style scoped>\n",
       "    .dataframe tbody tr th:only-of-type {\n",
       "        vertical-align: middle;\n",
       "    }\n",
       "\n",
       "    .dataframe tbody tr th {\n",
       "        vertical-align: top;\n",
       "    }\n",
       "\n",
       "    .dataframe thead th {\n",
       "        text-align: right;\n",
       "    }\n",
       "</style>\n",
       "<table border=\"1\" class=\"dataframe\">\n",
       "  <thead>\n",
       "    <tr style=\"text-align: right;\">\n",
       "      <th></th>\n",
       "      <th>1/22/20</th>\n",
       "      <th>1/23/20</th>\n",
       "      <th>1/24/20</th>\n",
       "      <th>1/25/20</th>\n",
       "      <th>1/26/20</th>\n",
       "      <th>1/27/20</th>\n",
       "      <th>1/28/20</th>\n",
       "      <th>1/29/20</th>\n",
       "      <th>1/30/20</th>\n",
       "      <th>1/31/20</th>\n",
       "      <th>...</th>\n",
       "      <th>10/20/22</th>\n",
       "      <th>10/21/22</th>\n",
       "      <th>10/22/22</th>\n",
       "      <th>10/23/22</th>\n",
       "      <th>10/24/22</th>\n",
       "      <th>10/25/22</th>\n",
       "      <th>10/26/22</th>\n",
       "      <th>10/27/22</th>\n",
       "      <th>10/28/22</th>\n",
       "      <th>10/29/22</th>\n",
       "    </tr>\n",
       "  </thead>\n",
       "  <tbody>\n",
       "    <tr>\n",
       "      <th>2148</th>\n",
       "      <td>0</td>\n",
       "      <td>0</td>\n",
       "      <td>0</td>\n",
       "      <td>0</td>\n",
       "      <td>0</td>\n",
       "      <td>0</td>\n",
       "      <td>0</td>\n",
       "      <td>0</td>\n",
       "      <td>0</td>\n",
       "      <td>0</td>\n",
       "      <td>...</td>\n",
       "      <td>344061</td>\n",
       "      <td>344061</td>\n",
       "      <td>344061</td>\n",
       "      <td>344061</td>\n",
       "      <td>344061</td>\n",
       "      <td>344061</td>\n",
       "      <td>344061</td>\n",
       "      <td>345102</td>\n",
       "      <td>345102</td>\n",
       "      <td>345102</td>\n",
       "    </tr>\n",
       "  </tbody>\n",
       "</table>\n",
       "<p>1 rows × 1012 columns</p>\n",
       "</div>"
      ],
      "text/plain": [
       "      1/22/20  1/23/20  1/24/20  1/25/20  1/26/20  1/27/20  1/28/20  1/29/20  \\\n",
       "2148        0        0        0        0        0        0        0        0   \n",
       "\n",
       "      1/30/20  1/31/20  ...  10/20/22  10/21/22  10/22/22  10/23/22  10/24/22  \\\n",
       "2148        0        0  ...    344061    344061    344061    344061    344061   \n",
       "\n",
       "      10/25/22  10/26/22  10/27/22  10/28/22  10/29/22  \n",
       "2148    344061    344061    345102    345102    345102  \n",
       "\n",
       "[1 rows x 1012 columns]"
      ]
     },
     "execution_count": 5,
     "metadata": {},
     "output_type": "execute_result"
    }
   ],
   "source": [
    "df_Franklin_in_Ohio_row = df_raw_us_Ohio_Franklin_row.drop(['Province_State', 'Admin2', 'UID', 'iso2', 'iso3', 'code3', 'FIPS', 'Country_Region', 'Lat', 'Long_', 'Combined_Key'], axis=1)\n",
    "df_Franklin_in_Ohio_row.head(3)\n"
   ]
  },
  {
   "cell_type": "markdown",
   "id": "d5a60f0c",
   "metadata": {},
   "source": [
    "#### Converting the row dates into column dates "
   ]
  },
  {
   "cell_type": "code",
   "execution_count": 6,
   "id": "36e6123f",
   "metadata": {},
   "outputs": [
    {
     "data": {
      "text/html": [
       "<div>\n",
       "<style scoped>\n",
       "    .dataframe tbody tr th:only-of-type {\n",
       "        vertical-align: middle;\n",
       "    }\n",
       "\n",
       "    .dataframe tbody tr th {\n",
       "        vertical-align: top;\n",
       "    }\n",
       "\n",
       "    .dataframe thead th {\n",
       "        text-align: right;\n",
       "    }\n",
       "</style>\n",
       "<table border=\"1\" class=\"dataframe\">\n",
       "  <thead>\n",
       "    <tr style=\"text-align: right;\">\n",
       "      <th></th>\n",
       "      <th>date</th>\n",
       "      <th>Infections</th>\n",
       "    </tr>\n",
       "  </thead>\n",
       "  <tbody>\n",
       "    <tr>\n",
       "      <th>1007</th>\n",
       "      <td>10/25/22</td>\n",
       "      <td>344061</td>\n",
       "    </tr>\n",
       "    <tr>\n",
       "      <th>1008</th>\n",
       "      <td>10/26/22</td>\n",
       "      <td>344061</td>\n",
       "    </tr>\n",
       "    <tr>\n",
       "      <th>1009</th>\n",
       "      <td>10/27/22</td>\n",
       "      <td>345102</td>\n",
       "    </tr>\n",
       "    <tr>\n",
       "      <th>1010</th>\n",
       "      <td>10/28/22</td>\n",
       "      <td>345102</td>\n",
       "    </tr>\n",
       "    <tr>\n",
       "      <th>1011</th>\n",
       "      <td>10/29/22</td>\n",
       "      <td>345102</td>\n",
       "    </tr>\n",
       "  </tbody>\n",
       "</table>\n",
       "</div>"
      ],
      "text/plain": [
       "          date  Infections\n",
       "1007  10/25/22      344061\n",
       "1008  10/26/22      344061\n",
       "1009  10/27/22      345102\n",
       "1010  10/28/22      345102\n",
       "1011  10/29/22      345102"
      ]
     },
     "execution_count": 6,
     "metadata": {},
     "output_type": "execute_result"
    }
   ],
   "source": [
    "df_Franklin_in_Ohio = df_Franklin_in_Ohio_row.melt(id_vars=[],var_name=\"Date\",value_name=\"Infections\")\n",
    "df_Franklin_in_Ohio.rename(columns = {'Date':'date'}, inplace = True)\n",
    "df_Franklin_in_Ohio.tail(5)\n"
   ]
  },
  {
   "cell_type": "markdown",
   "id": "91ebfeef",
   "metadata": {},
   "source": [
    "#### Loading Mask Mandate Data\n",
    "The data has been downloaded from [masking mandates by county](https://data.cdc.gov/Policy-Surveillance/U-S-State-and-Territorial-Public-Mask-Mandates-Fro/62d6-pm5i) which contains the mask mandate information for the countries in the United States"
   ]
  },
  {
   "cell_type": "code",
   "execution_count": 7,
   "id": "b91dfaea",
   "metadata": {},
   "outputs": [
    {
     "data": {
      "text/plain": [
       "Index(['State_Tribe_Territory', 'County_Name', 'FIPS_State', 'FIPS_County',\n",
       "       'date', 'order_code', 'Face_Masks_Required_in_Public',\n",
       "       'Source_of_Action', 'URL', 'Citation'],\n",
       "      dtype='object')"
      ]
     },
     "execution_count": 7,
     "metadata": {},
     "output_type": "execute_result"
    }
   ],
   "source": [
    "raw_csv_public_mask_mandate = pd.read_csv(DATA_PATH + 'US_State_and_Territorial_Public_Mask_Mandates_From_April_10__2020_through_August_15__2021_by_County_by_Day.csv')\n",
    "\n",
    "df_mask_Franklin = raw_csv_public_mask_mandate[raw_csv_public_mask_mandate['State_Tribe_Territory']=='OH']\n",
    "df_mask_Franklin = df_mask_Franklin[df_mask_Franklin['County_Name']=='Franklin County']\n",
    "\n",
    "df_mask_Franklin.columns\n"
   ]
  },
  {
   "cell_type": "markdown",
   "id": "be282592",
   "metadata": {},
   "source": [
    "#### Dropping the non-necessary columns not required for analysis from the dataframe"
   ]
  },
  {
   "cell_type": "code",
   "execution_count": 8,
   "id": "66621691",
   "metadata": {},
   "outputs": [],
   "source": [
    "df_comp_mask = df_mask_Franklin.drop(['State_Tribe_Territory', 'County_Name', 'FIPS_State', 'FIPS_County', 'order_code', 'Source_of_Action', 'URL', 'Citation'], axis=1)\n",
    "\n"
   ]
  },
  {
   "cell_type": "markdown",
   "id": "d3f06e79",
   "metadata": {},
   "source": [
    "#### Counting the number of mandates(Yes/No) in comp_mask dataframe"
   ]
  },
  {
   "cell_type": "code",
   "execution_count": 9,
   "id": "9351d81d",
   "metadata": {},
   "outputs": [
    {
     "data": {
      "text/plain": [
       "Yes    329\n",
       "No      75\n",
       "Name: Face_Masks_Required_in_Public, dtype: int64"
      ]
     },
     "execution_count": 9,
     "metadata": {},
     "output_type": "execute_result"
    }
   ],
   "source": [
    "df_comp_mask.Face_Masks_Required_in_Public.value_counts()"
   ]
  },
  {
   "cell_type": "markdown",
   "id": "b8bf98e8",
   "metadata": {},
   "source": [
    "#### Filling the NA's in dataframe with No. My assumption here is that when no value is present in the mandate column, mask mandate was not there in place"
   ]
  },
  {
   "cell_type": "code",
   "execution_count": 10,
   "id": "2e4014a2",
   "metadata": {},
   "outputs": [
    {
     "data": {
      "text/plain": [
       "Yes    329\n",
       "No     164\n",
       "Name: Face_Masks_Required_in_Public, dtype: int64"
      ]
     },
     "execution_count": 10,
     "metadata": {},
     "output_type": "execute_result"
    }
   ],
   "source": [
    "df_comp_mask.Face_Masks_Required_in_Public.fillna(\"No\", inplace = True)\n",
    "df_comp_mask.Face_Masks_Required_in_Public.value_counts()"
   ]
  },
  {
   "cell_type": "markdown",
   "id": "70ea0838",
   "metadata": {},
   "source": [
    "#### Converting the date column to datetime format"
   ]
  },
  {
   "cell_type": "code",
   "execution_count": 11,
   "id": "67403b31",
   "metadata": {},
   "outputs": [],
   "source": [
    "df_Franklin_in_Ohio['date'] = pd.to_datetime(df_Franklin_in_Ohio['date'])\n",
    "\n",
    "df_comp_mask['date'] = pd.to_datetime(df_comp_mask['date'])"
   ]
  },
  {
   "cell_type": "markdown",
   "id": "f8669bb7",
   "metadata": {},
   "source": [
    "#### Merging the two dataframes (mask mandate dataframe and confirmed infections dataframe)"
   ]
  },
  {
   "cell_type": "code",
   "execution_count": 12,
   "id": "41b964b8",
   "metadata": {},
   "outputs": [],
   "source": [
    "df_combined = pd.merge_ordered(df_Franklin_in_Ohio, df_comp_mask, how='left', on=\"date\")"
   ]
  },
  {
   "cell_type": "markdown",
   "id": "ea4b9796",
   "metadata": {},
   "source": [
    "### Step 2 : Data Processing - involves steps that do data cleansing and manipulation"
   ]
  },
  {
   "cell_type": "markdown",
   "id": "4f1581a1",
   "metadata": {},
   "source": [
    "#### Counting the number of Yes/No in the resultanat dataframe after merging"
   ]
  },
  {
   "cell_type": "code",
   "execution_count": 13,
   "id": "2e13c3e3",
   "metadata": {},
   "outputs": [
    {
     "data": {
      "text/plain": [
       "Yes    329\n",
       "No     164\n",
       "Name: Face_Masks_Required_in_Public, dtype: int64"
      ]
     },
     "execution_count": 13,
     "metadata": {},
     "output_type": "execute_result"
    }
   ],
   "source": [
    "df_combined.Face_Masks_Required_in_Public.value_counts()"
   ]
  },
  {
   "cell_type": "code",
   "execution_count": 14,
   "id": "8fa81755",
   "metadata": {},
   "outputs": [
    {
     "data": {
      "text/html": [
       "<div>\n",
       "<style scoped>\n",
       "    .dataframe tbody tr th:only-of-type {\n",
       "        vertical-align: middle;\n",
       "    }\n",
       "\n",
       "    .dataframe tbody tr th {\n",
       "        vertical-align: top;\n",
       "    }\n",
       "\n",
       "    .dataframe thead th {\n",
       "        text-align: right;\n",
       "    }\n",
       "</style>\n",
       "<table border=\"1\" class=\"dataframe\">\n",
       "  <thead>\n",
       "    <tr style=\"text-align: right;\">\n",
       "      <th></th>\n",
       "      <th>date</th>\n",
       "      <th>Infections</th>\n",
       "      <th>Face_Masks_Required_in_Public</th>\n",
       "    </tr>\n",
       "  </thead>\n",
       "  <tbody>\n",
       "    <tr>\n",
       "      <th>0</th>\n",
       "      <td>2020-01-22</td>\n",
       "      <td>0</td>\n",
       "      <td>NaN</td>\n",
       "    </tr>\n",
       "    <tr>\n",
       "      <th>1</th>\n",
       "      <td>2020-01-23</td>\n",
       "      <td>0</td>\n",
       "      <td>NaN</td>\n",
       "    </tr>\n",
       "    <tr>\n",
       "      <th>2</th>\n",
       "      <td>2020-01-24</td>\n",
       "      <td>0</td>\n",
       "      <td>NaN</td>\n",
       "    </tr>\n",
       "    <tr>\n",
       "      <th>3</th>\n",
       "      <td>2020-01-25</td>\n",
       "      <td>0</td>\n",
       "      <td>NaN</td>\n",
       "    </tr>\n",
       "    <tr>\n",
       "      <th>4</th>\n",
       "      <td>2020-01-26</td>\n",
       "      <td>0</td>\n",
       "      <td>NaN</td>\n",
       "    </tr>\n",
       "    <tr>\n",
       "      <th>5</th>\n",
       "      <td>2020-01-27</td>\n",
       "      <td>0</td>\n",
       "      <td>NaN</td>\n",
       "    </tr>\n",
       "    <tr>\n",
       "      <th>6</th>\n",
       "      <td>2020-01-28</td>\n",
       "      <td>0</td>\n",
       "      <td>NaN</td>\n",
       "    </tr>\n",
       "    <tr>\n",
       "      <th>7</th>\n",
       "      <td>2020-01-29</td>\n",
       "      <td>0</td>\n",
       "      <td>NaN</td>\n",
       "    </tr>\n",
       "    <tr>\n",
       "      <th>8</th>\n",
       "      <td>2020-01-30</td>\n",
       "      <td>0</td>\n",
       "      <td>NaN</td>\n",
       "    </tr>\n",
       "    <tr>\n",
       "      <th>9</th>\n",
       "      <td>2020-01-31</td>\n",
       "      <td>0</td>\n",
       "      <td>NaN</td>\n",
       "    </tr>\n",
       "  </tbody>\n",
       "</table>\n",
       "</div>"
      ],
      "text/plain": [
       "        date  Infections Face_Masks_Required_in_Public\n",
       "0 2020-01-22           0                           NaN\n",
       "1 2020-01-23           0                           NaN\n",
       "2 2020-01-24           0                           NaN\n",
       "3 2020-01-25           0                           NaN\n",
       "4 2020-01-26           0                           NaN\n",
       "5 2020-01-27           0                           NaN\n",
       "6 2020-01-28           0                           NaN\n",
       "7 2020-01-29           0                           NaN\n",
       "8 2020-01-30           0                           NaN\n",
       "9 2020-01-31           0                           NaN"
      ]
     },
     "execution_count": 14,
     "metadata": {},
     "output_type": "execute_result"
    }
   ],
   "source": [
    "df_combined.Face_Masks_Required_in_Public.isna().sum()\n",
    "df_combined.head(10)"
   ]
  },
  {
   "cell_type": "code",
   "execution_count": 15,
   "id": "f56dca28",
   "metadata": {},
   "outputs": [
    {
     "data": {
      "text/plain": [
       "Yes    329\n",
       "No     164\n",
       "Name: Face_Masks_Required_in_Public, dtype: int64"
      ]
     },
     "execution_count": 15,
     "metadata": {},
     "output_type": "execute_result"
    }
   ],
   "source": [
    "df_combined.Face_Masks_Required_in_Public.value_counts()"
   ]
  },
  {
   "cell_type": "markdown",
   "id": "e2be1e77",
   "metadata": {},
   "source": [
    "#### Filling the NAs in the merged dataframe (df_combined) by using the back fill methodolgy"
   ]
  },
  {
   "cell_type": "code",
   "execution_count": 16,
   "id": "556ef980",
   "metadata": {},
   "outputs": [],
   "source": [
    "df_combined.Face_Masks_Required_in_Public = df_combined.Face_Masks_Required_in_Public.fillna(method = 'bfill')"
   ]
  },
  {
   "cell_type": "markdown",
   "id": "f85fa3dc",
   "metadata": {},
   "source": [
    "#### Filling the NAs in the merged dataframe (df_combined) by using the forward fill methodolgy"
   ]
  },
  {
   "cell_type": "code",
   "execution_count": 17,
   "id": "77fff30b",
   "metadata": {},
   "outputs": [],
   "source": [
    "df_combined.Face_Masks_Required_in_Public = df_combined.Face_Masks_Required_in_Public.fillna(method = 'ffill')"
   ]
  },
  {
   "cell_type": "markdown",
   "id": "3c5189f2",
   "metadata": {},
   "source": [
    "#### Checking if the back fill and forward fill has been succesfully applied"
   ]
  },
  {
   "cell_type": "code",
   "execution_count": 18,
   "id": "35bb8e5e",
   "metadata": {},
   "outputs": [
    {
     "data": {
      "text/plain": [
       "No     683\n",
       "Yes    329\n",
       "Name: Face_Masks_Required_in_Public, dtype: int64"
      ]
     },
     "execution_count": 18,
     "metadata": {},
     "output_type": "execute_result"
    }
   ],
   "source": [
    "df_combined.Face_Masks_Required_in_Public.value_counts()"
   ]
  },
  {
   "cell_type": "markdown",
   "id": "c8a5f07b",
   "metadata": {},
   "source": [
    "#### Creating the delay for the date colum. The delay I have taken in account is for 3 days"
   ]
  },
  {
   "cell_type": "code",
   "execution_count": 19,
   "id": "6ac938be",
   "metadata": {},
   "outputs": [],
   "source": [
    "df_combined['test_date'] = df_combined['date'] - timedelta(days=3)"
   ]
  },
  {
   "cell_type": "markdown",
   "id": "2323680e",
   "metadata": {},
   "source": [
    "#### Mapping  Yes/No to binary values(1/0) for model building in later part of the notebook"
   ]
  },
  {
   "cell_type": "code",
   "execution_count": 20,
   "id": "11669e37",
   "metadata": {},
   "outputs": [],
   "source": [
    "df_combined['Face_Masks_Required_in_Public'] = df_combined['Face_Masks_Required_in_Public'].map({'Yes':1, 'No':0})"
   ]
  },
  {
   "cell_type": "code",
   "execution_count": 21,
   "id": "f9b4afd1",
   "metadata": {},
   "outputs": [],
   "source": [
    "df_combined['policy_day'] = df_combined['Face_Masks_Required_in_Public'].cumsum()"
   ]
  },
  {
   "cell_type": "code",
   "execution_count": 22,
   "id": "56a3d4f5",
   "metadata": {},
   "outputs": [
    {
     "data": {
      "text/html": [
       "<div>\n",
       "<style scoped>\n",
       "    .dataframe tbody tr th:only-of-type {\n",
       "        vertical-align: middle;\n",
       "    }\n",
       "\n",
       "    .dataframe tbody tr th {\n",
       "        vertical-align: top;\n",
       "    }\n",
       "\n",
       "    .dataframe thead th {\n",
       "        text-align: right;\n",
       "    }\n",
       "</style>\n",
       "<table border=\"1\" class=\"dataframe\">\n",
       "  <thead>\n",
       "    <tr style=\"text-align: right;\">\n",
       "      <th></th>\n",
       "      <th>date</th>\n",
       "      <th>Infections</th>\n",
       "      <th>Face_Masks_Required_in_Public</th>\n",
       "      <th>test_date</th>\n",
       "      <th>policy_day</th>\n",
       "      <th>days</th>\n",
       "    </tr>\n",
       "  </thead>\n",
       "  <tbody>\n",
       "    <tr>\n",
       "      <th>0</th>\n",
       "      <td>2020-01-22</td>\n",
       "      <td>0</td>\n",
       "      <td>0</td>\n",
       "      <td>2020-01-19</td>\n",
       "      <td>0</td>\n",
       "      <td>1</td>\n",
       "    </tr>\n",
       "    <tr>\n",
       "      <th>1</th>\n",
       "      <td>2020-01-23</td>\n",
       "      <td>0</td>\n",
       "      <td>0</td>\n",
       "      <td>2020-01-20</td>\n",
       "      <td>0</td>\n",
       "      <td>2</td>\n",
       "    </tr>\n",
       "    <tr>\n",
       "      <th>2</th>\n",
       "      <td>2020-01-24</td>\n",
       "      <td>0</td>\n",
       "      <td>0</td>\n",
       "      <td>2020-01-21</td>\n",
       "      <td>0</td>\n",
       "      <td>3</td>\n",
       "    </tr>\n",
       "    <tr>\n",
       "      <th>3</th>\n",
       "      <td>2020-01-25</td>\n",
       "      <td>0</td>\n",
       "      <td>0</td>\n",
       "      <td>2020-01-22</td>\n",
       "      <td>0</td>\n",
       "      <td>4</td>\n",
       "    </tr>\n",
       "    <tr>\n",
       "      <th>4</th>\n",
       "      <td>2020-01-26</td>\n",
       "      <td>0</td>\n",
       "      <td>0</td>\n",
       "      <td>2020-01-23</td>\n",
       "      <td>0</td>\n",
       "      <td>5</td>\n",
       "    </tr>\n",
       "    <tr>\n",
       "      <th>5</th>\n",
       "      <td>2020-01-27</td>\n",
       "      <td>0</td>\n",
       "      <td>0</td>\n",
       "      <td>2020-01-24</td>\n",
       "      <td>0</td>\n",
       "      <td>6</td>\n",
       "    </tr>\n",
       "    <tr>\n",
       "      <th>6</th>\n",
       "      <td>2020-01-28</td>\n",
       "      <td>0</td>\n",
       "      <td>0</td>\n",
       "      <td>2020-01-25</td>\n",
       "      <td>0</td>\n",
       "      <td>7</td>\n",
       "    </tr>\n",
       "    <tr>\n",
       "      <th>7</th>\n",
       "      <td>2020-01-29</td>\n",
       "      <td>0</td>\n",
       "      <td>0</td>\n",
       "      <td>2020-01-26</td>\n",
       "      <td>0</td>\n",
       "      <td>8</td>\n",
       "    </tr>\n",
       "    <tr>\n",
       "      <th>8</th>\n",
       "      <td>2020-01-30</td>\n",
       "      <td>0</td>\n",
       "      <td>0</td>\n",
       "      <td>2020-01-27</td>\n",
       "      <td>0</td>\n",
       "      <td>9</td>\n",
       "    </tr>\n",
       "    <tr>\n",
       "      <th>9</th>\n",
       "      <td>2020-01-31</td>\n",
       "      <td>0</td>\n",
       "      <td>0</td>\n",
       "      <td>2020-01-28</td>\n",
       "      <td>0</td>\n",
       "      <td>10</td>\n",
       "    </tr>\n",
       "  </tbody>\n",
       "</table>\n",
       "</div>"
      ],
      "text/plain": [
       "        date  Infections  Face_Masks_Required_in_Public  test_date  \\\n",
       "0 2020-01-22           0                              0 2020-01-19   \n",
       "1 2020-01-23           0                              0 2020-01-20   \n",
       "2 2020-01-24           0                              0 2020-01-21   \n",
       "3 2020-01-25           0                              0 2020-01-22   \n",
       "4 2020-01-26           0                              0 2020-01-23   \n",
       "5 2020-01-27           0                              0 2020-01-24   \n",
       "6 2020-01-28           0                              0 2020-01-25   \n",
       "7 2020-01-29           0                              0 2020-01-26   \n",
       "8 2020-01-30           0                              0 2020-01-27   \n",
       "9 2020-01-31           0                              0 2020-01-28   \n",
       "\n",
       "   policy_day  days  \n",
       "0           0     1  \n",
       "1           0     2  \n",
       "2           0     3  \n",
       "3           0     4  \n",
       "4           0     5  \n",
       "5           0     6  \n",
       "6           0     7  \n",
       "7           0     8  \n",
       "8           0     9  \n",
       "9           0    10  "
      ]
     },
     "execution_count": 22,
     "metadata": {},
     "output_type": "execute_result"
    }
   ],
   "source": [
    "df_combined['days'] = np.arange(1,len(df_combined)+1)\n",
    "df_combined.head(10)"
   ]
  },
  {
   "cell_type": "markdown",
   "id": "5df28365",
   "metadata": {},
   "source": [
    "#### Filling all NaN with 0 assuming that there was no policy mandate in place for those days"
   ]
  },
  {
   "cell_type": "code",
   "execution_count": 23,
   "id": "168edc49",
   "metadata": {},
   "outputs": [],
   "source": [
    "df_combined.Infections = df_combined.Infections.replace({'0':np.nan, 0:np.nan})"
   ]
  },
  {
   "cell_type": "markdown",
   "id": "beecbf23",
   "metadata": {},
   "source": [
    "#### Filling all the NA's in Infection column with back fill methodolgy"
   ]
  },
  {
   "cell_type": "code",
   "execution_count": 24,
   "id": "50cca06c",
   "metadata": {},
   "outputs": [],
   "source": [
    "df_combined.Infections = df_combined.Infections.fillna(method = 'bfill')"
   ]
  },
  {
   "cell_type": "code",
   "execution_count": 25,
   "id": "4b9c81c6",
   "metadata": {},
   "outputs": [
    {
     "data": {
      "text/html": [
       "<div>\n",
       "<style scoped>\n",
       "    .dataframe tbody tr th:only-of-type {\n",
       "        vertical-align: middle;\n",
       "    }\n",
       "\n",
       "    .dataframe tbody tr th {\n",
       "        vertical-align: top;\n",
       "    }\n",
       "\n",
       "    .dataframe thead th {\n",
       "        text-align: right;\n",
       "    }\n",
       "</style>\n",
       "<table border=\"1\" class=\"dataframe\">\n",
       "  <thead>\n",
       "    <tr style=\"text-align: right;\">\n",
       "      <th></th>\n",
       "      <th>date</th>\n",
       "      <th>Infections</th>\n",
       "      <th>Face_Masks_Required_in_Public</th>\n",
       "      <th>test_date</th>\n",
       "      <th>policy_day</th>\n",
       "      <th>days</th>\n",
       "    </tr>\n",
       "  </thead>\n",
       "  <tbody>\n",
       "    <tr>\n",
       "      <th>0</th>\n",
       "      <td>2020-01-22</td>\n",
       "      <td>1.0</td>\n",
       "      <td>0</td>\n",
       "      <td>2020-01-19</td>\n",
       "      <td>0</td>\n",
       "      <td>1</td>\n",
       "    </tr>\n",
       "    <tr>\n",
       "      <th>1</th>\n",
       "      <td>2020-01-23</td>\n",
       "      <td>1.0</td>\n",
       "      <td>0</td>\n",
       "      <td>2020-01-20</td>\n",
       "      <td>0</td>\n",
       "      <td>2</td>\n",
       "    </tr>\n",
       "    <tr>\n",
       "      <th>2</th>\n",
       "      <td>2020-01-24</td>\n",
       "      <td>1.0</td>\n",
       "      <td>0</td>\n",
       "      <td>2020-01-21</td>\n",
       "      <td>0</td>\n",
       "      <td>3</td>\n",
       "    </tr>\n",
       "    <tr>\n",
       "      <th>3</th>\n",
       "      <td>2020-01-25</td>\n",
       "      <td>1.0</td>\n",
       "      <td>0</td>\n",
       "      <td>2020-01-22</td>\n",
       "      <td>0</td>\n",
       "      <td>4</td>\n",
       "    </tr>\n",
       "    <tr>\n",
       "      <th>4</th>\n",
       "      <td>2020-01-26</td>\n",
       "      <td>1.0</td>\n",
       "      <td>0</td>\n",
       "      <td>2020-01-23</td>\n",
       "      <td>0</td>\n",
       "      <td>5</td>\n",
       "    </tr>\n",
       "    <tr>\n",
       "      <th>5</th>\n",
       "      <td>2020-01-27</td>\n",
       "      <td>1.0</td>\n",
       "      <td>0</td>\n",
       "      <td>2020-01-24</td>\n",
       "      <td>0</td>\n",
       "      <td>6</td>\n",
       "    </tr>\n",
       "    <tr>\n",
       "      <th>6</th>\n",
       "      <td>2020-01-28</td>\n",
       "      <td>1.0</td>\n",
       "      <td>0</td>\n",
       "      <td>2020-01-25</td>\n",
       "      <td>0</td>\n",
       "      <td>7</td>\n",
       "    </tr>\n",
       "    <tr>\n",
       "      <th>7</th>\n",
       "      <td>2020-01-29</td>\n",
       "      <td>1.0</td>\n",
       "      <td>0</td>\n",
       "      <td>2020-01-26</td>\n",
       "      <td>0</td>\n",
       "      <td>8</td>\n",
       "    </tr>\n",
       "    <tr>\n",
       "      <th>8</th>\n",
       "      <td>2020-01-30</td>\n",
       "      <td>1.0</td>\n",
       "      <td>0</td>\n",
       "      <td>2020-01-27</td>\n",
       "      <td>0</td>\n",
       "      <td>9</td>\n",
       "    </tr>\n",
       "    <tr>\n",
       "      <th>9</th>\n",
       "      <td>2020-01-31</td>\n",
       "      <td>1.0</td>\n",
       "      <td>0</td>\n",
       "      <td>2020-01-28</td>\n",
       "      <td>0</td>\n",
       "      <td>10</td>\n",
       "    </tr>\n",
       "  </tbody>\n",
       "</table>\n",
       "</div>"
      ],
      "text/plain": [
       "        date  Infections  Face_Masks_Required_in_Public  test_date  \\\n",
       "0 2020-01-22         1.0                              0 2020-01-19   \n",
       "1 2020-01-23         1.0                              0 2020-01-20   \n",
       "2 2020-01-24         1.0                              0 2020-01-21   \n",
       "3 2020-01-25         1.0                              0 2020-01-22   \n",
       "4 2020-01-26         1.0                              0 2020-01-23   \n",
       "5 2020-01-27         1.0                              0 2020-01-24   \n",
       "6 2020-01-28         1.0                              0 2020-01-25   \n",
       "7 2020-01-29         1.0                              0 2020-01-26   \n",
       "8 2020-01-30         1.0                              0 2020-01-27   \n",
       "9 2020-01-31         1.0                              0 2020-01-28   \n",
       "\n",
       "   policy_day  days  \n",
       "0           0     1  \n",
       "1           0     2  \n",
       "2           0     3  \n",
       "3           0     4  \n",
       "4           0     5  \n",
       "5           0     6  \n",
       "6           0     7  \n",
       "7           0     8  \n",
       "8           0     9  \n",
       "9           0    10  "
      ]
     },
     "execution_count": 25,
     "metadata": {},
     "output_type": "execute_result"
    }
   ],
   "source": [
    "df_combined.head(10)"
   ]
  },
  {
   "cell_type": "markdown",
   "id": "427aae7e",
   "metadata": {},
   "source": [
    "#### The dates we are interested for the analysis are\n",
    "- start_date = '2020-02-01' - 254\n",
    "- end_date   = '2021-10-01' - 619\n"
   ]
  },
  {
   "cell_type": "markdown",
   "id": "48bff793",
   "metadata": {},
   "source": [
    "#### Dropping the date and test_date from the dataframe"
   ]
  },
  {
   "cell_type": "code",
   "execution_count": 26,
   "id": "5493f134",
   "metadata": {},
   "outputs": [],
   "source": [
    "df_combined = df_combined.drop(['date', 'test_date'], axis=1)"
   ]
  },
  {
   "cell_type": "code",
   "execution_count": 27,
   "id": "96fd8db6",
   "metadata": {},
   "outputs": [],
   "source": [
    "df_combined['Infections'] = np.log2(df_combined['Infections'])"
   ]
  },
  {
   "cell_type": "code",
   "execution_count": 28,
   "id": "93bc2527",
   "metadata": {},
   "outputs": [
    {
     "data": {
      "text/html": [
       "<div>\n",
       "<style scoped>\n",
       "    .dataframe tbody tr th:only-of-type {\n",
       "        vertical-align: middle;\n",
       "    }\n",
       "\n",
       "    .dataframe tbody tr th {\n",
       "        vertical-align: top;\n",
       "    }\n",
       "\n",
       "    .dataframe thead th {\n",
       "        text-align: right;\n",
       "    }\n",
       "</style>\n",
       "<table border=\"1\" class=\"dataframe\">\n",
       "  <thead>\n",
       "    <tr style=\"text-align: right;\">\n",
       "      <th></th>\n",
       "      <th>Infections</th>\n",
       "      <th>Face_Masks_Required_in_Public</th>\n",
       "      <th>policy_day</th>\n",
       "      <th>days</th>\n",
       "    </tr>\n",
       "  </thead>\n",
       "  <tbody>\n",
       "    <tr>\n",
       "      <th>0</th>\n",
       "      <td>0.000000</td>\n",
       "      <td>0</td>\n",
       "      <td>0</td>\n",
       "      <td>1</td>\n",
       "    </tr>\n",
       "    <tr>\n",
       "      <th>1</th>\n",
       "      <td>0.000000</td>\n",
       "      <td>0</td>\n",
       "      <td>0</td>\n",
       "      <td>2</td>\n",
       "    </tr>\n",
       "    <tr>\n",
       "      <th>2</th>\n",
       "      <td>0.000000</td>\n",
       "      <td>0</td>\n",
       "      <td>0</td>\n",
       "      <td>3</td>\n",
       "    </tr>\n",
       "    <tr>\n",
       "      <th>3</th>\n",
       "      <td>0.000000</td>\n",
       "      <td>0</td>\n",
       "      <td>0</td>\n",
       "      <td>4</td>\n",
       "    </tr>\n",
       "    <tr>\n",
       "      <th>4</th>\n",
       "      <td>0.000000</td>\n",
       "      <td>0</td>\n",
       "      <td>0</td>\n",
       "      <td>5</td>\n",
       "    </tr>\n",
       "    <tr>\n",
       "      <th>...</th>\n",
       "      <td>...</td>\n",
       "      <td>...</td>\n",
       "      <td>...</td>\n",
       "      <td>...</td>\n",
       "    </tr>\n",
       "    <tr>\n",
       "      <th>1007</th>\n",
       "      <td>18.392305</td>\n",
       "      <td>0</td>\n",
       "      <td>329</td>\n",
       "      <td>1008</td>\n",
       "    </tr>\n",
       "    <tr>\n",
       "      <th>1008</th>\n",
       "      <td>18.392305</td>\n",
       "      <td>0</td>\n",
       "      <td>329</td>\n",
       "      <td>1009</td>\n",
       "    </tr>\n",
       "    <tr>\n",
       "      <th>1009</th>\n",
       "      <td>18.396663</td>\n",
       "      <td>0</td>\n",
       "      <td>329</td>\n",
       "      <td>1010</td>\n",
       "    </tr>\n",
       "    <tr>\n",
       "      <th>1010</th>\n",
       "      <td>18.396663</td>\n",
       "      <td>0</td>\n",
       "      <td>329</td>\n",
       "      <td>1011</td>\n",
       "    </tr>\n",
       "    <tr>\n",
       "      <th>1011</th>\n",
       "      <td>18.396663</td>\n",
       "      <td>0</td>\n",
       "      <td>329</td>\n",
       "      <td>1012</td>\n",
       "    </tr>\n",
       "  </tbody>\n",
       "</table>\n",
       "<p>1012 rows × 4 columns</p>\n",
       "</div>"
      ],
      "text/plain": [
       "      Infections  Face_Masks_Required_in_Public  policy_day  days\n",
       "0       0.000000                              0           0     1\n",
       "1       0.000000                              0           0     2\n",
       "2       0.000000                              0           0     3\n",
       "3       0.000000                              0           0     4\n",
       "4       0.000000                              0           0     5\n",
       "...          ...                            ...         ...   ...\n",
       "1007   18.392305                              0         329  1008\n",
       "1008   18.392305                              0         329  1009\n",
       "1009   18.396663                              0         329  1010\n",
       "1010   18.396663                              0         329  1011\n",
       "1011   18.396663                              0         329  1012\n",
       "\n",
       "[1012 rows x 4 columns]"
      ]
     },
     "execution_count": 28,
     "metadata": {},
     "output_type": "execute_result"
    }
   ],
   "source": [
    "df_combined"
   ]
  },
  {
   "cell_type": "markdown",
   "id": "00b67e91",
   "metadata": {},
   "source": [
    "### Step 3  : Analysis - to answer the specific questions"
   ]
  },
  {
   "cell_type": "markdown",
   "id": "6c5dcd1f",
   "metadata": {},
   "source": [
    "\n",
    "### Naive Solution\n",
    "- We implement an ordinary least squares (OLS) regression using statsmodels to measure the impact of our intervention:"
   ]
  },
  {
   "cell_type": "code",
   "execution_count": 29,
   "id": "618f385c",
   "metadata": {},
   "outputs": [
    {
     "name": "stdout",
     "output_type": "stream",
     "text": [
      "                            OLS Regression Results                            \n",
      "==============================================================================\n",
      "Dep. Variable:             Infections   R-squared:                       0.738\n",
      "Model:                            OLS   Adj. R-squared:                  0.737\n",
      "Method:                 Least Squares   F-statistic:                     946.4\n",
      "Date:                Thu, 03 Nov 2022   Prob (F-statistic):          1.46e-292\n",
      "Time:                        16:23:20   Log-Likelihood:                -2252.3\n",
      "No. Observations:                1012   AIC:                             4513.\n",
      "Df Residuals:                    1008   BIC:                             4532.\n",
      "Df Model:                           3                                         \n",
      "Covariance Type:            nonrobust                                         \n",
      "=================================================================================================\n",
      "                                    coef    std err          t      P>|t|      [0.025      0.975]\n",
      "-------------------------------------------------------------------------------------------------\n",
      "Intercept                         7.1073      0.179     39.786      0.000       6.757       7.458\n",
      "Face_Masks_Required_in_Public     3.7871      0.169     22.433      0.000       3.456       4.118\n",
      "policy_day                        0.0110      0.001      8.995      0.000       0.009       0.013\n",
      "days                              0.0091      0.001     15.451      0.000       0.008       0.010\n",
      "==============================================================================\n",
      "Omnibus:                      312.108   Durbin-Watson:                   0.007\n",
      "Prob(Omnibus):                  0.000   Jarque-Bera (JB):             1112.646\n",
      "Skew:                          -1.463   Prob(JB):                    2.47e-242\n",
      "Kurtosis:                       7.222   Cond. No.                     1.99e+03\n",
      "==============================================================================\n",
      "\n",
      "Notes:\n",
      "[1] Standard Errors assume that the covariance matrix of the errors is correctly specified.\n",
      "[2] The condition number is large, 1.99e+03. This might indicate that there are\n",
      "strong multicollinearity or other numerical problems.\n"
     ]
    }
   ],
   "source": [
    "model = smf.ols(formula='Infections ~ Face_Masks_Required_in_Public + policy_day + days', data=df_combined)\n",
    "res = model.fit()\n",
    "print(res.summary())"
   ]
  },
  {
   "cell_type": "markdown",
   "id": "ef8e4eb8",
   "metadata": {},
   "source": [
    "#### Plotting figure showing how the model fits before and after intervention and how it project a counterfactual"
   ]
  },
  {
   "cell_type": "code",
   "execution_count": 30,
   "id": "a02b963a",
   "metadata": {},
   "outputs": [
    {
     "data": {
      "image/png": "[encoded data removed]",
      "text/plain": [
       "<Figure size 1440x720 with 1 Axes>"
      ]
     },
     "metadata": {},
     "output_type": "display_data"
    }
   ],
   "source": [
    "start = 254 # the day on whcih mask mandate was imolemented\n",
    "end = 619 # the day on which the mask mandate was removed\n",
    "beta = res.params\n",
    "\n",
    "# Get model predictions and 95% confidence interval\n",
    "predictions = res.get_prediction(df_combined)\n",
    "summary = predictions.summary_frame(alpha=0.05)\n",
    "\n",
    "# mean predictions\n",
    "y_pred = predictions.predicted_mean\n",
    "\n",
    "# countefactual assumes no interventions\n",
    "cf_df = df_combined.copy()\n",
    "cf_df[\"Face_Masks_Required_in_Public\"] = 0.0\n",
    "cf_df[\"policy_day\"] = 0.0\n",
    "\n",
    "# counter-factual predictions\n",
    "cf = res.get_prediction(cf_df).summary_frame(alpha=0.05)\n",
    "\n",
    "# Plotting\n",
    "plt.style.use('seaborn-whitegrid')\n",
    "fig, ax = plt.subplots(figsize=(20,10))\n",
    "\n",
    "# Plot infection rate data\n",
    "ax.scatter(df_combined[\"days\"], df_combined[\"Infections\"], facecolors='none', edgecolors='steelblue', label=\"infection rate data\", linewidths=0.75)\n",
    "\n",
    "# Plot model mean infectionrate prediction\n",
    "ax.plot(df_combined[\"days\"][:start], y_pred[:start], 'b-', label=\"model prediction\",linestyle='dotted',linewidth=3)\n",
    "ax.plot(df_combined[\"days\"][start:], y_pred[start:], 'b-',linestyle='dotted',linewidth=3)\n",
    "\n",
    "# Plot counterfactual mean infection rate with 95% confidence interval\n",
    "ax.plot(df_combined[\"days\"][start:], cf['mean'][start:], 'k.', label=\"counterfactual\")\n",
    "ax.fill_between(df_combined[\"days\"][start:], cf['mean_ci_lower'][start:], cf['mean_ci_upper'][start:], color='g', alpha=0.15, label=\"counterfactual 95% CI\");\n",
    "\n",
    "# Plot line marking intervention moment\n",
    "ax.axvline(x = 254, color = 'r', label = 'intervention start', linewidth=2,linestyle='dotted')\n",
    "# Plot line marking intervention moment\n",
    "ax.axvline(x = 619, color = 'r', label = 'intervention end',linewidth=2)\n",
    "\n",
    "ax.legend(loc='best')\n",
    "plt.title(\"How the model fits before and after intervention and how it project a counterfactual would be:\",fontsize = 20)\n",
    "plt.xlabel(\"Days\",fontsize = 15)\n",
    "plt.ylabel(\"Infection rate\",fontsize = 15);\n"
   ]
  },
  {
   "cell_type": "markdown",
   "id": "989d7b96",
   "metadata": {},
   "source": [
    "#### Plotting the distribution of residuals:"
   ]
  },
  {
   "cell_type": "code",
   "execution_count": 31,
   "id": "cc37679a",
   "metadata": {},
   "outputs": [
    {
     "data": {
      "text/plain": [
       "<AxesSubplot:ylabel='Density'>"
      ]
     },
     "execution_count": 31,
     "metadata": {},
     "output_type": "execute_result"
    },
    {
     "data": {
      "image/png": "[encoded data removed]",
      "text/plain": [
       "<Figure size 432x288 with 1 Axes>"
      ]
     },
     "metadata": {},
     "output_type": "display_data"
    }
   ],
   "source": [
    " res.resid.plot(kind=\"kde\")"
   ]
  },
  {
   "cell_type": "markdown",
   "id": "e56b4df1",
   "metadata": {},
   "source": [
    "### Autoregressive model solution\n",
    "- The autoregressive model specifies that each observation depends linearly on previous observations."
   ]
  },
  {
   "cell_type": "markdown",
   "id": "6256f4c6",
   "metadata": {},
   "source": [
    "#### To assess how much an observation correlates with past observations it is useful to do an autocorrelation plot as shown below:"
   ]
  },
  {
   "cell_type": "code",
   "execution_count": 32,
   "id": "21026454",
   "metadata": {},
   "outputs": [
    {
     "data": {
      "image/png": "[encoded data removed]",
      "text/plain": [
       "<Figure size 432x288 with 1 Axes>"
      ]
     },
     "metadata": {},
     "output_type": "display_data"
    }
   ],
   "source": [
    "sm.graphics.tsa.plot_acf(res.resid, lags=10)\n",
    "plt.xlabel(\"Lag\",fontsize = 10)\n",
    "plt.ylabel(\"Estimated autocorrelation\",fontsize = 10);\n",
    "plt.show()"
   ]
  },
  {
   "cell_type": "markdown",
   "id": "43c2d159",
   "metadata": {},
   "source": [
    "#### Partial Autocorrelation\n",
    "-The partial autocorrelation at lag pp is the correlation that results after removing the effect of any correlations due to the terms at shorter lags."
   ]
  },
  {
   "cell_type": "code",
   "execution_count": 33,
   "id": "abb90b33",
   "metadata": {},
   "outputs": [
    {
     "data": {
      "image/png": "[encoded data removed]",
      "text/plain": [
       "<Figure size 432x288 with 1 Axes>"
      ]
     },
     "metadata": {},
     "output_type": "display_data"
    }
   ],
   "source": [
    "sm.graphics.tsa.plot_pacf(res.resid, lags=10)\n",
    "plt.xlabel(\"Lag\",fontsize = 10)\n",
    "plt.ylabel(\"Estimated partial autocorrelation\",fontsize = 10);\n",
    "plt.show() "
   ]
  },
  {
   "cell_type": "markdown",
   "id": "06738fa9",
   "metadata": {},
   "source": [
    "### Model selection \n",
    "- The theory states that in an autoregressive model its autocorrelation plot should depict an exponential decay and the number of lags pp should be taken from the partial autocorrelation chart using its pp most relevant lags. Applying the theory to our plots above, we conclude that our model is autoregressive of lag 1 also known as AR(1)."
   ]
  },
  {
   "cell_type": "markdown",
   "id": "8ab423d3",
   "metadata": {},
   "source": [
    "### ARIMA\n",
    "In statistics ARIMA stands for autoregressive integrated moving average model and as can be inferred by the name AR models are as especial case of ARIMA therefore AR(1) is equivalent to ARIMA(1,0,0)."
   ]
  },
  {
   "cell_type": "code",
   "execution_count": 34,
   "id": "e30e5825",
   "metadata": {},
   "outputs": [
    {
     "name": "stdout",
     "output_type": "stream",
     "text": [
      "                               SARIMAX Results                                \n",
      "==============================================================================\n",
      "Dep. Variable:             Infections   No. Observations:                 1012\n",
      "Model:                 ARIMA(1, 0, 0)   Log Likelihood                1125.945\n",
      "Date:                Thu, 03 Nov 2022   AIC                          -2239.891\n",
      "Time:                        16:23:26   BIC                          -2210.373\n",
      "Sample:                             0   HQIC                         -2228.678\n",
      "                               - 1012                                         \n",
      "Covariance Type:                  opg                                         \n",
      "=================================================================================================\n",
      "                                    coef    std err          z      P>|z|      [0.025      0.975]\n",
      "-------------------------------------------------------------------------------------------------\n",
      "const                             3.7698     21.397      0.176      0.860     -38.168      45.708\n",
      "days                              0.0213      0.005      4.150      0.000       0.011       0.031\n",
      "Face_Masks_Required_in_Public     0.0249      0.955      0.026      0.979      -1.847       1.896\n",
      "policy_day                       -0.0109      0.036     -0.299      0.765      -0.082       0.060\n",
      "ar.L1                             0.9999      0.002    581.652      0.000       0.997       1.003\n",
      "sigma2                            0.0063      0.000     54.911      0.000       0.006       0.006\n",
      "===================================================================================\n",
      "Ljung-Box (L1) (Q):                 256.77   Jarque-Bera (JB):           1368092.20\n",
      "Prob(Q):                              0.00   Prob(JB):                         0.00\n",
      "Heteroskedasticity (H):               0.02   Skew:                            11.61\n",
      "Prob(H) (two-sided):                  0.00   Kurtosis:                       181.62\n",
      "===================================================================================\n",
      "\n",
      "Warnings:\n",
      "[1] Covariance matrix calculated using the outer product of gradients (complex-step).\n"
     ]
    }
   ],
   "source": [
    "from statsmodels.tsa.arima.model import ARIMA\n",
    "\n",
    "arima_results = ARIMA(df_combined[\"Infections\"], df_combined[[\"days\",\"Face_Masks_Required_in_Public\",\"policy_day\"]], order=(1,0,0)).fit()\n",
    "print(arima_results.summary())\n"
   ]
  },
  {
   "cell_type": "code",
   "execution_count": 55,
   "id": "3bcde97c",
   "metadata": {},
   "outputs": [
    {
     "data": {
      "image/png": "[encoded data removed]",
      "text/plain": [
       "<Figure size 1152x720 with 1 Axes>"
      ]
     },
     "metadata": {},
     "output_type": "display_data"
    }
   ],
   "source": [
    "from statsmodels.tsa.arima.model import ARIMA\n",
    "\n",
    "start = 254\n",
    "end = 619\n",
    "\n",
    "predictions = arima_results.get_prediction(0, end-1)\n",
    "summary = predictions.summary_frame(alpha=0.05)\n",
    "\n",
    "arima_cf = ARIMA(df_combined[\"Infections\"][:start], df_combined[\"days\"][:start], order=(1,0,0)).fit()\n",
    "\n",
    "# Model predictions means\n",
    "y_pred = predictions.predicted_mean\n",
    "\n",
    "# Counterfactual mean and 95% confidence interval\n",
    "y_cf = arima_cf.get_forecast(758, exog=df_combined[\"days\"][start:]).summary_frame(alpha=0.05)\n",
    "\n",
    "# Plot section\n",
    "plt.style.use('seaborn-whitegrid')\n",
    "fig, ax = plt.subplots(figsize=(16,10))\n",
    "\n",
    "#Plot line marking intervention moment\n",
    "ax.axvline(x = 254, color = 'r', label = 'intervention start', linewidth=2,linestyle='dotted')\n",
    "\n",
    "\n",
    "\n",
    "# Plot infection rate data\n",
    "ax.scatter(df_combined[\"days\"], df_combined[\"Infections\"], facecolors='none', edgecolors='steelblue', label=\"bounce rate data\", linewidths=0.75)\n",
    "\n",
    "# Plot model mean infection prediction\n",
    "\n",
    "ax.plot(df_combined[\"days\"][:start], y_pred[:start], 'b-', label=\"model prediction\")\n",
    "#ax.plot(df_combined[\"days\"][start:], y_pred[start:], 'b-')\n",
    "\n",
    "# Plot counterfactual mean infection rate with 95% confidence interval\n",
    "ax.plot(df_combined[\"days\"][start:], y_cf[\"mean\"], 'k.', label=\"counterfactual\")\n",
    "ax.fill_between(df_combined[\"days\"][start:], y_cf['mean_ci_lower'], y_cf['mean_ci_upper'], color='k', alpha=0.1, label=\"counterfactual 95% CI\");\n",
    "\n",
    "ax.legend(loc='best')\n",
    "plt.ylim([10, 100])\n",
    "plt.xlabel(\"Days\")\n",
    "plt.title(\"How the ARIMA model fits after intervention and how it project a counterfactual:\",fontsize = 15)\n",
    "plt.ylabel(\"Infection rate\");\n",
    "\n"
   ]
  },
  {
   "cell_type": "markdown",
   "id": "41d09c89",
   "metadata": {},
   "source": [
    "### ARIMA residual analysis"
   ]
  },
  {
   "cell_type": "code",
   "execution_count": 51,
   "id": "e92879e0",
   "metadata": {},
   "outputs": [
    {
     "data": {
      "image/png": "[encoded data removed]",
      "text/plain": [
       "<Figure size 1152x576 with 2 Axes>"
      ]
     },
     "metadata": {},
     "output_type": "display_data"
    }
   ],
   "source": [
    "import scipy as sp\n",
    "from statsmodels.graphics.gofplots import qqplot\n",
    "\n",
    "fig, (ax1, ax2) = plt.subplots(1,2, figsize=(16,8))\n",
    "sm.qqplot(res.resid, sp.stats.t, fit=True, line=\"45\", ax=ax1);\n",
    "ax1.set_title(\"OLS qqplot\");\n",
    "\n",
    "sm.qqplot(arima_results.resid, sp.stats.t, fit=True, line=\"45\", ax=ax2);\n",
    "ax2.set_title(\"ARIMA qqplot\");\n",
    "plt.show();"
   ]
  },
  {
   "cell_type": "markdown",
   "id": "e0dfedc2",
   "metadata": {},
   "source": [
    "### Mask Compliance data\n",
    "- Based on the mask compliance dafa frame we observed that 61% of the total population ALWAYS wear the mask and roughly around 4.2% population NEVER wears it. Here is an interesting observation that we are finding is that the cureve is getting flattened because very less %age of the population at Franklin in Ohio are not following the compliance and for the RARELY cases it depends on a several factors like where the person went was at a 6feet diatance or was it a shopping mall or departmental store.Additionally, it is important to note that even if everyone wore masks, social distancing and other precautions would still need to be taken in order to prevent the spread of the virus which means that the infection cureve would have never come to zero because there are a number of factors involved in the analysis that are beyond the scope of this assignment"
   ]
  },
  {
   "cell_type": "code",
   "execution_count": 56,
   "id": "781ed022",
   "metadata": {},
   "outputs": [
    {
     "data": {
      "text/html": [
       "<div>\n",
       "<style scoped>\n",
       "    .dataframe tbody tr th:only-of-type {\n",
       "        vertical-align: middle;\n",
       "    }\n",
       "\n",
       "    .dataframe tbody tr th {\n",
       "        vertical-align: top;\n",
       "    }\n",
       "\n",
       "    .dataframe thead th {\n",
       "        text-align: right;\n",
       "    }\n",
       "</style>\n",
       "<table border=\"1\" class=\"dataframe\">\n",
       "  <thead>\n",
       "    <tr style=\"text-align: right;\">\n",
       "      <th></th>\n",
       "      <th>COUNTYFP</th>\n",
       "      <th>NEVER</th>\n",
       "      <th>RARELY</th>\n",
       "      <th>SOMETIMES</th>\n",
       "      <th>FREQUENTLY</th>\n",
       "      <th>ALWAYS</th>\n",
       "    </tr>\n",
       "  </thead>\n",
       "  <tbody>\n",
       "    <tr>\n",
       "      <th>0</th>\n",
       "      <td>1001</td>\n",
       "      <td>0.053</td>\n",
       "      <td>0.074</td>\n",
       "      <td>0.134</td>\n",
       "      <td>0.295</td>\n",
       "      <td>0.444</td>\n",
       "    </tr>\n",
       "    <tr>\n",
       "      <th>1</th>\n",
       "      <td>1003</td>\n",
       "      <td>0.083</td>\n",
       "      <td>0.059</td>\n",
       "      <td>0.098</td>\n",
       "      <td>0.323</td>\n",
       "      <td>0.436</td>\n",
       "    </tr>\n",
       "    <tr>\n",
       "      <th>2</th>\n",
       "      <td>1005</td>\n",
       "      <td>0.067</td>\n",
       "      <td>0.121</td>\n",
       "      <td>0.120</td>\n",
       "      <td>0.201</td>\n",
       "      <td>0.491</td>\n",
       "    </tr>\n",
       "    <tr>\n",
       "      <th>3</th>\n",
       "      <td>1007</td>\n",
       "      <td>0.020</td>\n",
       "      <td>0.034</td>\n",
       "      <td>0.096</td>\n",
       "      <td>0.278</td>\n",
       "      <td>0.572</td>\n",
       "    </tr>\n",
       "    <tr>\n",
       "      <th>4</th>\n",
       "      <td>1009</td>\n",
       "      <td>0.053</td>\n",
       "      <td>0.114</td>\n",
       "      <td>0.180</td>\n",
       "      <td>0.194</td>\n",
       "      <td>0.459</td>\n",
       "    </tr>\n",
       "    <tr>\n",
       "      <th>5</th>\n",
       "      <td>1011</td>\n",
       "      <td>0.031</td>\n",
       "      <td>0.040</td>\n",
       "      <td>0.144</td>\n",
       "      <td>0.286</td>\n",
       "      <td>0.500</td>\n",
       "    </tr>\n",
       "    <tr>\n",
       "      <th>6</th>\n",
       "      <td>1013</td>\n",
       "      <td>0.102</td>\n",
       "      <td>0.053</td>\n",
       "      <td>0.257</td>\n",
       "      <td>0.137</td>\n",
       "      <td>0.451</td>\n",
       "    </tr>\n",
       "    <tr>\n",
       "      <th>7</th>\n",
       "      <td>1015</td>\n",
       "      <td>0.152</td>\n",
       "      <td>0.108</td>\n",
       "      <td>0.130</td>\n",
       "      <td>0.167</td>\n",
       "      <td>0.442</td>\n",
       "    </tr>\n",
       "    <tr>\n",
       "      <th>8</th>\n",
       "      <td>1017</td>\n",
       "      <td>0.117</td>\n",
       "      <td>0.037</td>\n",
       "      <td>0.150</td>\n",
       "      <td>0.136</td>\n",
       "      <td>0.560</td>\n",
       "    </tr>\n",
       "    <tr>\n",
       "      <th>9</th>\n",
       "      <td>1019</td>\n",
       "      <td>0.135</td>\n",
       "      <td>0.027</td>\n",
       "      <td>0.161</td>\n",
       "      <td>0.158</td>\n",
       "      <td>0.520</td>\n",
       "    </tr>\n",
       "  </tbody>\n",
       "</table>\n",
       "</div>"
      ],
      "text/plain": [
       "   COUNTYFP  NEVER  RARELY  SOMETIMES  FREQUENTLY  ALWAYS\n",
       "0      1001  0.053   0.074      0.134       0.295   0.444\n",
       "1      1003  0.083   0.059      0.098       0.323   0.436\n",
       "2      1005  0.067   0.121      0.120       0.201   0.491\n",
       "3      1007  0.020   0.034      0.096       0.278   0.572\n",
       "4      1009  0.053   0.114      0.180       0.194   0.459\n",
       "5      1011  0.031   0.040      0.144       0.286   0.500\n",
       "6      1013  0.102   0.053      0.257       0.137   0.451\n",
       "7      1015  0.152   0.108      0.130       0.167   0.442\n",
       "8      1017  0.117   0.037      0.150       0.136   0.560\n",
       "9      1019  0.135   0.027      0.161       0.158   0.520"
      ]
     },
     "execution_count": 56,
     "metadata": {},
     "output_type": "execute_result"
    }
   ],
   "source": [
    "mask_comp = pd.read_csv(DATA_PATH + 'mask_use_by_county.csv')\n",
    "\n",
    "mask_comp.head(10)"
   ]
  },
  {
   "cell_type": "code",
   "execution_count": 59,
   "id": "b3ea294c",
   "metadata": {},
   "outputs": [
    {
     "data": {
      "text/html": [
       "<div>\n",
       "<style scoped>\n",
       "    .dataframe tbody tr th:only-of-type {\n",
       "        vertical-align: middle;\n",
       "    }\n",
       "\n",
       "    .dataframe tbody tr th {\n",
       "        vertical-align: top;\n",
       "    }\n",
       "\n",
       "    .dataframe thead th {\n",
       "        text-align: right;\n",
       "    }\n",
       "</style>\n",
       "<table border=\"1\" class=\"dataframe\">\n",
       "  <thead>\n",
       "    <tr style=\"text-align: right;\">\n",
       "      <th></th>\n",
       "      <th>COUNTYFP</th>\n",
       "      <th>NEVER</th>\n",
       "      <th>RARELY</th>\n",
       "      <th>SOMETIMES</th>\n",
       "      <th>FREQUENTLY</th>\n",
       "      <th>ALWAYS</th>\n",
       "    </tr>\n",
       "  </thead>\n",
       "  <tbody>\n",
       "    <tr>\n",
       "      <th>2067</th>\n",
       "      <td>39049</td>\n",
       "      <td>0.042</td>\n",
       "      <td>0.054</td>\n",
       "      <td>0.09</td>\n",
       "      <td>0.198</td>\n",
       "      <td>0.617</td>\n",
       "    </tr>\n",
       "  </tbody>\n",
       "</table>\n",
       "</div>"
      ],
      "text/plain": [
       "      COUNTYFP  NEVER  RARELY  SOMETIMES  FREQUENTLY  ALWAYS\n",
       "2067     39049  0.042   0.054       0.09       0.198   0.617"
      ]
     },
     "execution_count": 59,
     "metadata": {},
     "output_type": "execute_result"
    }
   ],
   "source": [
    "mask_comp =mask_comp[mask_comp['COUNTYFP'] == 39049]\n",
    "mask_comp\n"
   ]
  }
 ],
 "metadata": {
  "kernelspec": {
   "display_name": "Python 3",
   "language": "python",
   "name": "python3"
  },
  "language_info": {
   "codemirror_mode": {
    "name": "ipython",
    "version": 3
   },
   "file_extension": ".py",
   "mimetype": "text/x-python",
   "name": "python",
   "nbconvert_exporter": "python",
   "pygments_lexer": "ipython3",
   "version": "3.8.8"
  }
 },
 "nbformat": 4,
 "nbformat_minor": 5
}
